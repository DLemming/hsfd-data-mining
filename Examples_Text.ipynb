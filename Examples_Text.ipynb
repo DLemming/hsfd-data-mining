{
 "cells": [
  {
   "cell_type": "code",
   "execution_count": 11,
   "metadata": {
    "id": "OJ6G_SJVH9rQ"
   },
   "outputs": [],
   "source": [
    "rnd = 42\n",
    "import random\n",
    "import pandas as pd\n",
    "import os\n",
    "import numpy as np\n",
    "import matplotlib.pyplot as plt\n",
    "import torch\n",
    "import transformers\n",
    "assert transformers.__version__=='2.7.0', 'Please install transformer 2.7.0 (You may need a rust compiler https://rustup.rs/)'\n",
    "import folium\n",
    "assert folium.__version__=='0.2.1'\n",
    "import urllib3\n",
    "assert urllib3.__version__=='1.25.4'\n",
    "import captum\n",
    "\n",
    "DEVICE = 'cuda'\n",
    "dataset = 'IMDB'"
   ]
  },
  {
   "cell_type": "code",
   "execution_count": 17,
   "metadata": {},
   "outputs": [
    {
     "data": {
      "text/plain": [
       "0"
      ]
     },
     "execution_count": 17,
     "metadata": {},
     "output_type": "execute_result"
    }
   ],
   "source": [
    "download_file_from_google_drive('1hmuG2EFgEQmIA2lCeDZ4pG69KneVIFOS','./data/Text/text_datasets.zip')\n",
    "os.system('unzip ./data/text/text_datasets.zip -d ./data/Text/')"
   ]
  },
  {
   "cell_type": "code",
   "execution_count": 21,
   "metadata": {
    "colab": {
     "base_uri": "https://localhost:8080/"
    },
    "executionInfo": {
     "elapsed": 23285,
     "status": "ok",
     "timestamp": 1610810423005,
     "user": {
      "displayName": "Francesco BODRIA",
      "photoUrl": "https://lh3.googleusercontent.com/a-/AOh14GhWoPtcdMIy7X2yZn1NZbTlnLyFvgDd-Iwx5fLv=s64",
      "userId": "11386110455975912274"
     },
     "user_tz": -60
    },
    "id": "laNBrWCVYLW1",
    "outputId": "f59390f7-ac09-4e30-b47d-a464eb3c18a8"
   },
   "outputs": [
    {
     "name": "stdout",
     "output_type": "stream",
     "text": [
      "IMDB dataset selected\n"
     ]
    }
   ],
   "source": [
    "def load_dataset(path):\n",
    "    data = pd.read_csv(path)\n",
    "    X = data['sentence'].values.tolist()\n",
    "    Y = data['label'].values\n",
    "    return X, Y\n",
    "\n",
    "def sst_binary(data_dir='./data/Text/SST/'):\n",
    "    \"\"\"\n",
    "    Stanford Sentiment Treebank.\n",
    "    \"\"\"\n",
    "    trX, trY = load_dataset(os.path.join(data_dir, 'train_binary_sent.csv'))\n",
    "    vaX, vaY = load_dataset(os.path.join(data_dir, 'dev_binary_sent.csv'))\n",
    "    teX, teY = load_dataset(os.path.join(data_dir, 'test_binary_sent.csv'))\n",
    "    return trX+vaX, teX, np.hstack((trY,vaY)), teY\n",
    "\n",
    "def yelp_binary(data_dir='./data/Text/imdb_review_polarity/'):\n",
    "    \"\"\"\n",
    "    Yelp Review Polarity Dataset.\n",
    "    \"\"\"\n",
    "    trX, trY = load_dataset(os.path.join(data_dir, 'train.csv'))\n",
    "    teX, teY = load_dataset(os.path.join(data_dir, 'test.csv'))\n",
    "    return trX, teX, trY, teY\n",
    "\n",
    "def imdb_binary(data_dir='./data/Text/yelp_review_polarity/'):\n",
    "    \"\"\"\n",
    "    Imdb Review Polarity Dataset.\n",
    "    \"\"\"\n",
    "    trX, trY = load_dataset(os.path.join(data_dir, 'train.csv'))\n",
    "    teX, teY = load_dataset(os.path.join(data_dir, 'test.csv'))\n",
    "    return trX, teX, trY, teY\n",
    "\n",
    "if dataset == 'SST':\n",
    "    trX, teX, trY, teY = sst_binary()\n",
    "    print('SST dataset selected')\n",
    "elif dataset == 'IMDB':\n",
    "    trX, teX, trY, teY = imdb_binary()\n",
    "    print('IMDB dataset selected')\n",
    "elif dataset == 'YELP':\n",
    "    trX, teX, trY, teY = yelp_binary()\n",
    "    print('YELP dataset selected')"
   ]
  },
  {
   "cell_type": "code",
   "execution_count": 12,
   "metadata": {
    "id": "qKxEVqZoRKXr"
   },
   "outputs": [],
   "source": [
    "import requests\n",
    "\n",
    "from tqdm import tqdm\n",
    "\n",
    "def download_file_from_google_drive(id, destination):\n",
    "    def get_confirm_token(response):\n",
    "        for key, value in response.cookies.items():\n",
    "            if key.startswith('download_warning'):\n",
    "                return value\n",
    "\n",
    "        return None\n",
    "\n",
    "    def save_response_content(response, destination):\n",
    "        CHUNK_SIZE = 32768\n",
    "\n",
    "        with open(destination, \"wb\") as f:\n",
    "            with tqdm(unit='B', unit_scale=True, unit_divisor=1024) as bar:\n",
    "                for chunk in response.iter_content(CHUNK_SIZE):\n",
    "                    if chunk:  # filter out keep-alive new chunks\n",
    "                        f.write(chunk)\n",
    "                        bar.update(CHUNK_SIZE)\n",
    "\n",
    "    URL = \"https://docs.google.com/uc?export=download\"\n",
    "\n",
    "    session = requests.Session()\n",
    "\n",
    "    response = session.get(URL, params = { 'id' : id }, stream = True)\n",
    "    token = get_confirm_token(response)\n",
    "\n",
    "    if token:\n",
    "        params = { 'id' : id, 'confirm' : token }\n",
    "        response = session.get(URL, params = params, stream = True)\n",
    "\n",
    "    save_response_content(response, destination)    "
   ]
  },
  {
   "cell_type": "code",
   "execution_count": 15,
   "metadata": {
    "colab": {
     "base_uri": "https://localhost:8080/"
    },
    "executionInfo": {
     "elapsed": 41503,
     "status": "ok",
     "timestamp": 1610810441237,
     "user": {
      "displayName": "Francesco BODRIA",
      "photoUrl": "https://lh3.googleusercontent.com/a-/AOh14GhWoPtcdMIy7X2yZn1NZbTlnLyFvgDd-Iwx5fLv=s64",
      "userId": "11386110455975912274"
     },
     "user_tz": -60
    },
    "id": "Ms0ry9-HIsSo",
    "outputId": "36f85f2c-2707-4112-c81d-5b479280749d"
   },
   "outputs": [
    {
     "name": "stderr",
     "output_type": "stream",
     "text": [
      "774MB [02:58, 4.54MB/s] \n"
     ]
    }
   ],
   "source": [
    "if dataset == 'SST':\n",
    "    download_file_from_google_drive('1RdM5-KkFuwrfv8luWoCyepBPleiNw3Py','./models/Text/SST_BERT.tgz')\n",
    "    os.system('tar -zxvf ./models/Text/SST_BERT.tgz -C ./models/Text/')\n",
    "elif dataset == 'IMDB':\n",
    "    download_file_from_google_drive('1LwCSzbg6mts9AzuLHikoZou42-ixUuq9','./models/Text/IMDB_BERT.tgz')\n",
    "    os.system('tar -zxvf ./models/Text/IMDB_BERT.tgz -C ./models/Text/')\n",
    "elif dataset == 'YELP':\n",
    "    download_file_from_google_drive('1udzt-GXMKzVmXxUxzYNZ7MjL7z8JcI5P','./models/Text/YELP_BERT.tar.gz')\n",
    "    os.system('tar -zxvf ./models/Text/YELP_BERT.tar.gz -C ./models/Text/')"
   ]
  },
  {
   "cell_type": "code",
   "execution_count": 23,
   "metadata": {
    "colab": {
     "base_uri": "https://localhost:8080/"
    },
    "executionInfo": {
     "elapsed": 58851,
     "status": "ok",
     "timestamp": 1610810458592,
     "user": {
      "displayName": "Francesco BODRIA",
      "photoUrl": "https://lh3.googleusercontent.com/a-/AOh14GhWoPtcdMIy7X2yZn1NZbTlnLyFvgDd-Iwx5fLv=s64",
      "userId": "11386110455975912274"
     },
     "user_tz": -60
    },
    "id": "jYzqHS_C5lAI",
    "outputId": "858b9f59-f2d7-4ef1-e5ad-b3bf6d2605cf"
   },
   "outputs": [
    {
     "name": "stderr",
     "output_type": "stream",
     "text": [
      "/Users/francesco/anaconda3/envs/survey/lib/python3.7/site-packages/torch/serialization.py:656: SourceChangeWarning: source code of class 'torch.nn.modules.sparse.Embedding' has changed. you can retrieve the original source code by accessing the object's source attribute or set `torch.nn.Module.dump_patches = True` and use the patch tool to revert the changes.\n",
      "  warnings.warn(msg, SourceChangeWarning)\n",
      "/Users/francesco/anaconda3/envs/survey/lib/python3.7/site-packages/torch/serialization.py:656: SourceChangeWarning: source code of class 'torch.nn.modules.normalization.LayerNorm' has changed. you can retrieve the original source code by accessing the object's source attribute or set `torch.nn.Module.dump_patches = True` and use the patch tool to revert the changes.\n",
      "  warnings.warn(msg, SourceChangeWarning)\n",
      "/Users/francesco/anaconda3/envs/survey/lib/python3.7/site-packages/torch/serialization.py:656: SourceChangeWarning: source code of class 'torch.nn.modules.dropout.Dropout' has changed. you can retrieve the original source code by accessing the object's source attribute or set `torch.nn.Module.dump_patches = True` and use the patch tool to revert the changes.\n",
      "  warnings.warn(msg, SourceChangeWarning)\n",
      "/Users/francesco/anaconda3/envs/survey/lib/python3.7/site-packages/torch/serialization.py:656: SourceChangeWarning: source code of class 'torch.nn.modules.container.ModuleList' has changed. you can retrieve the original source code by accessing the object's source attribute or set `torch.nn.Module.dump_patches = True` and use the patch tool to revert the changes.\n",
      "  warnings.warn(msg, SourceChangeWarning)\n",
      "/Users/francesco/anaconda3/envs/survey/lib/python3.7/site-packages/torch/serialization.py:656: SourceChangeWarning: source code of class 'torch.nn.modules.linear.Linear' has changed. you can retrieve the original source code by accessing the object's source attribute or set `torch.nn.Module.dump_patches = True` and use the patch tool to revert the changes.\n",
      "  warnings.warn(msg, SourceChangeWarning)\n",
      "/Users/francesco/anaconda3/envs/survey/lib/python3.7/site-packages/torch/serialization.py:656: SourceChangeWarning: source code of class 'torch.nn.modules.activation.Tanh' has changed. you can retrieve the original source code by accessing the object's source attribute or set `torch.nn.Module.dump_patches = True` and use the patch tool to revert the changes.\n",
      "  warnings.warn(msg, SourceChangeWarning)\n"
     ]
    },
    {
     "data": {
      "text/plain": [
       "<All keys matched successfully>"
      ]
     },
     "execution_count": 23,
     "metadata": {},
     "output_type": "execute_result"
    }
   ],
   "source": [
    "BERT_TOKENIZER_PATH = './models/Text/'+dataset+'_BERT/BERT_base_uncased_tokenizer.pt'\n",
    "BERT_PATH = './models/Text/'+dataset+'_BERT/BERT_base_uncased.pt'\n",
    "BERT_FT_PATH = './models/Text/'+dataset+'_BERT/'+dataset+'_BERT_FT.pt'\n",
    "\n",
    "BERT_tokenizer = torch.load(BERT_TOKENIZER_PATH)\n",
    "BERT = torch.load(BERT_PATH)\n",
    "\n",
    "class FT_BERT(torch.nn.Module):\n",
    "\n",
    "    def __init__(self, BERT_model, tokenizer):\n",
    "        super(FT_BERT, self).__init__()\n",
    "        self.BERT = BERT_model\n",
    "        self.drop = torch.nn.Dropout(0.1)\n",
    "        self.linear = torch.nn.Linear(768, 2)\n",
    "        self.log_probs = torch.nn.LogSoftmax(dim=-1)\n",
    "        self.tokenizer = tokenizer\n",
    "\n",
    "    def forward(self, input_embeds):\n",
    "        #inputs = self.tokenizer.batch_encode_plus(X, add_special_tokens=True, max_length=256, pad_to_max_length=True)\n",
    "        #input_ids = np.vstack(inputs['input_ids'])\n",
    "        #attention_mask = np.vstack(inputs['attention_mask'])\n",
    "        #token_type_ids = np.vstack(inputs['token_type_ids'])\n",
    "        outputs = self.log_probs(self.linear(self.drop(self.BERT(inputs_embeds=input_embeds)[1])))\n",
    "        return torch.exp(outputs)[:,1]\n",
    "\n",
    "    def init_weights(self):\n",
    "        torch.nn.init.normal_(self.linear.weight, mean=0.0, std=0.02)\n",
    "        torch.nn.init.constant_(self.linear.bias,0)\n",
    "\n",
    "from torch.utils import data\n",
    "\n",
    "class TextDataset(data.Dataset):\n",
    "    def __init__(self,trX,trY):\n",
    "        self.trX = trX\n",
    "        self.trY = trY\n",
    "\n",
    "    def __len__(self):\n",
    "        return len(self.trY)\n",
    "\n",
    "    def __getitem__(self, idx):\n",
    "        return (self.trX[idx],torch.tensor(self.trY[idx]))\n",
    "\n",
    "train_data = TextDataset(trX, trY)\n",
    "test_data = TextDataset(teX, teY)\n",
    "train_data_loader = data.DataLoader(train_data, batch_size=32, shuffle=True)\n",
    "test_data_loader = data.DataLoader(test_data, batch_size=32, shuffle=False)\n",
    "\n",
    "model = FT_BERT(BERT,BERT_tokenizer).to(DEVICE)\n",
    "device = torch.device(DEVICE)\n",
    "model.load_state_dict(torch.load(BERT_FT_PATH,map_location=device))"
   ]
  },
  {
   "cell_type": "code",
   "execution_count": null,
   "metadata": {
    "id": "DDUOfMQPxv5M"
   },
   "outputs": [],
   "source": []
  },
  {
   "cell_type": "markdown",
   "metadata": {
    "id": "rMlu877xobz0"
   },
   "source": [
    "# Saliency Matrix"
   ]
  },
  {
   "cell_type": "code",
   "execution_count": 24,
   "metadata": {
    "id": "GnNJhcBPiz7x"
   },
   "outputs": [],
   "source": [
    "import os\n",
    "os.system('mkdir ./models/Text/BERT_no_attention')\n",
    "BERT.save_pretrained('./models/Text/BERT_no_attention')"
   ]
  },
  {
   "cell_type": "code",
   "execution_count": 26,
   "metadata": {
    "colab": {
     "base_uri": "https://localhost:8080/"
    },
    "executionInfo": {
     "elapsed": 58227,
     "status": "ok",
     "timestamp": 1610810464242,
     "user": {
      "displayName": "Francesco BODRIA",
      "photoUrl": "https://lh3.googleusercontent.com/a-/AOh14GhWoPtcdMIy7X2yZn1NZbTlnLyFvgDd-Iwx5fLv=s64",
      "userId": "11386110455975912274"
     },
     "user_tz": -60
    },
    "id": "zMkcyDEMjbFr",
    "outputId": "cd483b00-0b9f-49b9-af1e-4367194f5415"
   },
   "outputs": [
    {
     "data": {
      "text/plain": [
       "BertModel(\n",
       "  (embeddings): BertEmbeddings(\n",
       "    (word_embeddings): Embedding(30522, 768, padding_idx=0)\n",
       "    (position_embeddings): Embedding(512, 768)\n",
       "    (token_type_embeddings): Embedding(2, 768)\n",
       "    (LayerNorm): LayerNorm((768,), eps=1e-12, elementwise_affine=True)\n",
       "    (dropout): Dropout(p=0.1, inplace=False)\n",
       "  )\n",
       "  (encoder): BertEncoder(\n",
       "    (layer): ModuleList(\n",
       "      (0): BertLayer(\n",
       "        (attention): BertAttention(\n",
       "          (self): BertSelfAttention(\n",
       "            (query): Linear(in_features=768, out_features=768, bias=True)\n",
       "            (key): Linear(in_features=768, out_features=768, bias=True)\n",
       "            (value): Linear(in_features=768, out_features=768, bias=True)\n",
       "            (dropout): Dropout(p=0.1, inplace=False)\n",
       "          )\n",
       "          (output): BertSelfOutput(\n",
       "            (dense): Linear(in_features=768, out_features=768, bias=True)\n",
       "            (LayerNorm): LayerNorm((768,), eps=1e-12, elementwise_affine=True)\n",
       "            (dropout): Dropout(p=0.1, inplace=False)\n",
       "          )\n",
       "        )\n",
       "        (intermediate): BertIntermediate(\n",
       "          (dense): Linear(in_features=768, out_features=3072, bias=True)\n",
       "        )\n",
       "        (output): BertOutput(\n",
       "          (dense): Linear(in_features=3072, out_features=768, bias=True)\n",
       "          (LayerNorm): LayerNorm((768,), eps=1e-12, elementwise_affine=True)\n",
       "          (dropout): Dropout(p=0.1, inplace=False)\n",
       "        )\n",
       "      )\n",
       "      (1): BertLayer(\n",
       "        (attention): BertAttention(\n",
       "          (self): BertSelfAttention(\n",
       "            (query): Linear(in_features=768, out_features=768, bias=True)\n",
       "            (key): Linear(in_features=768, out_features=768, bias=True)\n",
       "            (value): Linear(in_features=768, out_features=768, bias=True)\n",
       "            (dropout): Dropout(p=0.1, inplace=False)\n",
       "          )\n",
       "          (output): BertSelfOutput(\n",
       "            (dense): Linear(in_features=768, out_features=768, bias=True)\n",
       "            (LayerNorm): LayerNorm((768,), eps=1e-12, elementwise_affine=True)\n",
       "            (dropout): Dropout(p=0.1, inplace=False)\n",
       "          )\n",
       "        )\n",
       "        (intermediate): BertIntermediate(\n",
       "          (dense): Linear(in_features=768, out_features=3072, bias=True)\n",
       "        )\n",
       "        (output): BertOutput(\n",
       "          (dense): Linear(in_features=3072, out_features=768, bias=True)\n",
       "          (LayerNorm): LayerNorm((768,), eps=1e-12, elementwise_affine=True)\n",
       "          (dropout): Dropout(p=0.1, inplace=False)\n",
       "        )\n",
       "      )\n",
       "      (2): BertLayer(\n",
       "        (attention): BertAttention(\n",
       "          (self): BertSelfAttention(\n",
       "            (query): Linear(in_features=768, out_features=768, bias=True)\n",
       "            (key): Linear(in_features=768, out_features=768, bias=True)\n",
       "            (value): Linear(in_features=768, out_features=768, bias=True)\n",
       "            (dropout): Dropout(p=0.1, inplace=False)\n",
       "          )\n",
       "          (output): BertSelfOutput(\n",
       "            (dense): Linear(in_features=768, out_features=768, bias=True)\n",
       "            (LayerNorm): LayerNorm((768,), eps=1e-12, elementwise_affine=True)\n",
       "            (dropout): Dropout(p=0.1, inplace=False)\n",
       "          )\n",
       "        )\n",
       "        (intermediate): BertIntermediate(\n",
       "          (dense): Linear(in_features=768, out_features=3072, bias=True)\n",
       "        )\n",
       "        (output): BertOutput(\n",
       "          (dense): Linear(in_features=3072, out_features=768, bias=True)\n",
       "          (LayerNorm): LayerNorm((768,), eps=1e-12, elementwise_affine=True)\n",
       "          (dropout): Dropout(p=0.1, inplace=False)\n",
       "        )\n",
       "      )\n",
       "      (3): BertLayer(\n",
       "        (attention): BertAttention(\n",
       "          (self): BertSelfAttention(\n",
       "            (query): Linear(in_features=768, out_features=768, bias=True)\n",
       "            (key): Linear(in_features=768, out_features=768, bias=True)\n",
       "            (value): Linear(in_features=768, out_features=768, bias=True)\n",
       "            (dropout): Dropout(p=0.1, inplace=False)\n",
       "          )\n",
       "          (output): BertSelfOutput(\n",
       "            (dense): Linear(in_features=768, out_features=768, bias=True)\n",
       "            (LayerNorm): LayerNorm((768,), eps=1e-12, elementwise_affine=True)\n",
       "            (dropout): Dropout(p=0.1, inplace=False)\n",
       "          )\n",
       "        )\n",
       "        (intermediate): BertIntermediate(\n",
       "          (dense): Linear(in_features=768, out_features=3072, bias=True)\n",
       "        )\n",
       "        (output): BertOutput(\n",
       "          (dense): Linear(in_features=3072, out_features=768, bias=True)\n",
       "          (LayerNorm): LayerNorm((768,), eps=1e-12, elementwise_affine=True)\n",
       "          (dropout): Dropout(p=0.1, inplace=False)\n",
       "        )\n",
       "      )\n",
       "      (4): BertLayer(\n",
       "        (attention): BertAttention(\n",
       "          (self): BertSelfAttention(\n",
       "            (query): Linear(in_features=768, out_features=768, bias=True)\n",
       "            (key): Linear(in_features=768, out_features=768, bias=True)\n",
       "            (value): Linear(in_features=768, out_features=768, bias=True)\n",
       "            (dropout): Dropout(p=0.1, inplace=False)\n",
       "          )\n",
       "          (output): BertSelfOutput(\n",
       "            (dense): Linear(in_features=768, out_features=768, bias=True)\n",
       "            (LayerNorm): LayerNorm((768,), eps=1e-12, elementwise_affine=True)\n",
       "            (dropout): Dropout(p=0.1, inplace=False)\n",
       "          )\n",
       "        )\n",
       "        (intermediate): BertIntermediate(\n",
       "          (dense): Linear(in_features=768, out_features=3072, bias=True)\n",
       "        )\n",
       "        (output): BertOutput(\n",
       "          (dense): Linear(in_features=3072, out_features=768, bias=True)\n",
       "          (LayerNorm): LayerNorm((768,), eps=1e-12, elementwise_affine=True)\n",
       "          (dropout): Dropout(p=0.1, inplace=False)\n",
       "        )\n",
       "      )\n",
       "      (5): BertLayer(\n",
       "        (attention): BertAttention(\n",
       "          (self): BertSelfAttention(\n",
       "            (query): Linear(in_features=768, out_features=768, bias=True)\n",
       "            (key): Linear(in_features=768, out_features=768, bias=True)\n",
       "            (value): Linear(in_features=768, out_features=768, bias=True)\n",
       "            (dropout): Dropout(p=0.1, inplace=False)\n",
       "          )\n",
       "          (output): BertSelfOutput(\n",
       "            (dense): Linear(in_features=768, out_features=768, bias=True)\n",
       "            (LayerNorm): LayerNorm((768,), eps=1e-12, elementwise_affine=True)\n",
       "            (dropout): Dropout(p=0.1, inplace=False)\n",
       "          )\n",
       "        )\n",
       "        (intermediate): BertIntermediate(\n",
       "          (dense): Linear(in_features=768, out_features=3072, bias=True)\n",
       "        )\n",
       "        (output): BertOutput(\n",
       "          (dense): Linear(in_features=3072, out_features=768, bias=True)\n",
       "          (LayerNorm): LayerNorm((768,), eps=1e-12, elementwise_affine=True)\n",
       "          (dropout): Dropout(p=0.1, inplace=False)\n",
       "        )\n",
       "      )\n",
       "      (6): BertLayer(\n",
       "        (attention): BertAttention(\n",
       "          (self): BertSelfAttention(\n",
       "            (query): Linear(in_features=768, out_features=768, bias=True)\n",
       "            (key): Linear(in_features=768, out_features=768, bias=True)\n",
       "            (value): Linear(in_features=768, out_features=768, bias=True)\n",
       "            (dropout): Dropout(p=0.1, inplace=False)\n",
       "          )\n",
       "          (output): BertSelfOutput(\n",
       "            (dense): Linear(in_features=768, out_features=768, bias=True)\n",
       "            (LayerNorm): LayerNorm((768,), eps=1e-12, elementwise_affine=True)\n",
       "            (dropout): Dropout(p=0.1, inplace=False)\n",
       "          )\n",
       "        )\n",
       "        (intermediate): BertIntermediate(\n",
       "          (dense): Linear(in_features=768, out_features=3072, bias=True)\n",
       "        )\n",
       "        (output): BertOutput(\n",
       "          (dense): Linear(in_features=3072, out_features=768, bias=True)\n",
       "          (LayerNorm): LayerNorm((768,), eps=1e-12, elementwise_affine=True)\n",
       "          (dropout): Dropout(p=0.1, inplace=False)\n",
       "        )\n",
       "      )\n",
       "      (7): BertLayer(\n",
       "        (attention): BertAttention(\n",
       "          (self): BertSelfAttention(\n",
       "            (query): Linear(in_features=768, out_features=768, bias=True)\n",
       "            (key): Linear(in_features=768, out_features=768, bias=True)\n",
       "            (value): Linear(in_features=768, out_features=768, bias=True)\n",
       "            (dropout): Dropout(p=0.1, inplace=False)\n",
       "          )\n",
       "          (output): BertSelfOutput(\n",
       "            (dense): Linear(in_features=768, out_features=768, bias=True)\n",
       "            (LayerNorm): LayerNorm((768,), eps=1e-12, elementwise_affine=True)\n",
       "            (dropout): Dropout(p=0.1, inplace=False)\n",
       "          )\n",
       "        )\n",
       "        (intermediate): BertIntermediate(\n",
       "          (dense): Linear(in_features=768, out_features=3072, bias=True)\n",
       "        )\n",
       "        (output): BertOutput(\n",
       "          (dense): Linear(in_features=3072, out_features=768, bias=True)\n",
       "          (LayerNorm): LayerNorm((768,), eps=1e-12, elementwise_affine=True)\n",
       "          (dropout): Dropout(p=0.1, inplace=False)\n",
       "        )\n",
       "      )\n",
       "      (8): BertLayer(\n",
       "        (attention): BertAttention(\n",
       "          (self): BertSelfAttention(\n",
       "            (query): Linear(in_features=768, out_features=768, bias=True)\n",
       "            (key): Linear(in_features=768, out_features=768, bias=True)\n",
       "            (value): Linear(in_features=768, out_features=768, bias=True)\n",
       "            (dropout): Dropout(p=0.1, inplace=False)\n",
       "          )\n",
       "          (output): BertSelfOutput(\n",
       "            (dense): Linear(in_features=768, out_features=768, bias=True)\n",
       "            (LayerNorm): LayerNorm((768,), eps=1e-12, elementwise_affine=True)\n",
       "            (dropout): Dropout(p=0.1, inplace=False)\n",
       "          )\n",
       "        )\n",
       "        (intermediate): BertIntermediate(\n",
       "          (dense): Linear(in_features=768, out_features=3072, bias=True)\n",
       "        )\n",
       "        (output): BertOutput(\n",
       "          (dense): Linear(in_features=3072, out_features=768, bias=True)\n",
       "          (LayerNorm): LayerNorm((768,), eps=1e-12, elementwise_affine=True)\n",
       "          (dropout): Dropout(p=0.1, inplace=False)\n",
       "        )\n",
       "      )\n",
       "      (9): BertLayer(\n",
       "        (attention): BertAttention(\n",
       "          (self): BertSelfAttention(\n",
       "            (query): Linear(in_features=768, out_features=768, bias=True)\n",
       "            (key): Linear(in_features=768, out_features=768, bias=True)\n",
       "            (value): Linear(in_features=768, out_features=768, bias=True)\n",
       "            (dropout): Dropout(p=0.1, inplace=False)\n",
       "          )\n",
       "          (output): BertSelfOutput(\n",
       "            (dense): Linear(in_features=768, out_features=768, bias=True)\n",
       "            (LayerNorm): LayerNorm((768,), eps=1e-12, elementwise_affine=True)\n",
       "            (dropout): Dropout(p=0.1, inplace=False)\n",
       "          )\n",
       "        )\n",
       "        (intermediate): BertIntermediate(\n",
       "          (dense): Linear(in_features=768, out_features=3072, bias=True)\n",
       "        )\n",
       "        (output): BertOutput(\n",
       "          (dense): Linear(in_features=3072, out_features=768, bias=True)\n",
       "          (LayerNorm): LayerNorm((768,), eps=1e-12, elementwise_affine=True)\n",
       "          (dropout): Dropout(p=0.1, inplace=False)\n",
       "        )\n",
       "      )\n",
       "      (10): BertLayer(\n",
       "        (attention): BertAttention(\n",
       "          (self): BertSelfAttention(\n",
       "            (query): Linear(in_features=768, out_features=768, bias=True)\n",
       "            (key): Linear(in_features=768, out_features=768, bias=True)\n",
       "            (value): Linear(in_features=768, out_features=768, bias=True)\n",
       "            (dropout): Dropout(p=0.1, inplace=False)\n",
       "          )\n",
       "          (output): BertSelfOutput(\n",
       "            (dense): Linear(in_features=768, out_features=768, bias=True)\n",
       "            (LayerNorm): LayerNorm((768,), eps=1e-12, elementwise_affine=True)\n",
       "            (dropout): Dropout(p=0.1, inplace=False)\n",
       "          )\n",
       "        )\n",
       "        (intermediate): BertIntermediate(\n",
       "          (dense): Linear(in_features=768, out_features=3072, bias=True)\n",
       "        )\n",
       "        (output): BertOutput(\n",
       "          (dense): Linear(in_features=3072, out_features=768, bias=True)\n",
       "          (LayerNorm): LayerNorm((768,), eps=1e-12, elementwise_affine=True)\n",
       "          (dropout): Dropout(p=0.1, inplace=False)\n",
       "        )\n",
       "      )\n",
       "      (11): BertLayer(\n",
       "        (attention): BertAttention(\n",
       "          (self): BertSelfAttention(\n",
       "            (query): Linear(in_features=768, out_features=768, bias=True)\n",
       "            (key): Linear(in_features=768, out_features=768, bias=True)\n",
       "            (value): Linear(in_features=768, out_features=768, bias=True)\n",
       "            (dropout): Dropout(p=0.1, inplace=False)\n",
       "          )\n",
       "          (output): BertSelfOutput(\n",
       "            (dense): Linear(in_features=768, out_features=768, bias=True)\n",
       "            (LayerNorm): LayerNorm((768,), eps=1e-12, elementwise_affine=True)\n",
       "            (dropout): Dropout(p=0.1, inplace=False)\n",
       "          )\n",
       "        )\n",
       "        (intermediate): BertIntermediate(\n",
       "          (dense): Linear(in_features=768, out_features=3072, bias=True)\n",
       "        )\n",
       "        (output): BertOutput(\n",
       "          (dense): Linear(in_features=3072, out_features=768, bias=True)\n",
       "          (LayerNorm): LayerNorm((768,), eps=1e-12, elementwise_affine=True)\n",
       "          (dropout): Dropout(p=0.1, inplace=False)\n",
       "        )\n",
       "      )\n",
       "    )\n",
       "  )\n",
       "  (pooler): BertPooler(\n",
       "    (dense): Linear(in_features=768, out_features=768, bias=True)\n",
       "    (activation): Tanh()\n",
       "  )\n",
       ")"
      ]
     },
     "execution_count": 26,
     "metadata": {},
     "output_type": "execute_result"
    }
   ],
   "source": [
    "from transformers import BertModel, BertConfig\n",
    "\n",
    "# Initializing a BERT bert-base-uncased style configuration\n",
    "configuration = BertConfig(output_attentions=True)\n",
    "# Initializing a model from the bert-base-uncased style configuration\n",
    "BERT = BertModel(configuration).to(DEVICE)\n",
    "BERT.from_pretrained('./models/Text/BERT_no_attention/')"
   ]
  },
  {
   "cell_type": "markdown",
   "metadata": {},
   "source": [
    "# Attention Matrix"
   ]
  },
  {
   "cell_type": "code",
   "execution_count": 33,
   "metadata": {
    "colab": {
     "base_uri": "https://localhost:8080/",
     "height": 345
    },
    "executionInfo": {
     "elapsed": 774,
     "status": "ok",
     "timestamp": 1610810762383,
     "user": {
      "displayName": "Francesco BODRIA",
      "photoUrl": "https://lh3.googleusercontent.com/a-/AOh14GhWoPtcdMIy7X2yZn1NZbTlnLyFvgDd-Iwx5fLv=s64",
      "userId": "11386110455975912274"
     },
     "user_tz": -60
    },
    "id": "QWaNj4uEyHnS",
    "outputId": "daaeedc1-d732-48f1-ca84-b9951cd2e84f"
   },
   "outputs": [
    {
     "data": {
      "image/png": "[encoded data removed]",
      "text/plain": [
       "<Figure size 1080x360 with 2 Axes>"
      ]
     },
     "metadata": {},
     "output_type": "display_data"
    }
   ],
   "source": [
    "sentence='read the book, forget the movie!'\n",
    "\n",
    "with torch.no_grad():\n",
    "    d = BERT_tokenizer.batch_encode_plus([sentence],add_special_tokens=True,pad_to_max_length=True)\n",
    "    input_embedding = model.BERT.embeddings(torch.tensor(d['input_ids']).to(DEVICE))\n",
    "    output = BERT.forward(inputs_embeds=input_embedding)\n",
    "\n",
    "attention = np.sum(output[2][0][0,:,1:-1,1:-1].detach().cpu().numpy(),axis=0)\n",
    "\n",
    "import seaborn as sb\n",
    "sb.set_theme()\n",
    "\n",
    "# Draw a heatmap with the numeric values in each cell\n",
    "f, ax = plt.subplots(figsize=(15, 5))\n",
    "sb.heatmap(attention, annot=False, linewidths=1, ax=ax,cmap='YlOrRd')\n",
    "plt.rcParams['xtick.bottom'] = plt.rcParams['xtick.labelbottom'] = False\n",
    "plt.rcParams['xtick.top'] = plt.rcParams['xtick.labeltop'] = True\n",
    "ax.set_xticklabels(BERT_tokenizer.tokenize(sentence),fontsize=24)\n",
    "ax.set_yticklabels(BERT_tokenizer.tokenize(sentence),fontsize=24,va='center',rotation='horizontal');"
   ]
  },
  {
   "cell_type": "markdown",
   "metadata": {},
   "source": [
    "# Saliency Highlighting"
   ]
  },
  {
   "cell_type": "markdown",
   "metadata": {},
   "source": [
    "### Visualisation function"
   ]
  },
  {
   "cell_type": "code",
   "execution_count": null,
   "metadata": {
    "colab": {
     "base_uri": "https://localhost:8080/",
     "height": 35
    },
    "executionInfo": {
     "elapsed": 415,
     "status": "ok",
     "timestamp": 1605015102219,
     "user": {
      "displayName": "Francesco BODRIA",
      "photoUrl": "https://lh3.googleusercontent.com/a-/AOh14GhWoPtcdMIy7X2yZn1NZbTlnLyFvgDd-Iwx5fLv=s64",
      "userId": "11386110455975912274"
     },
     "user_tz": -60
    },
    "id": "V1Pi6qNEfTIw",
    "outputId": "5aa02dee-1530-4d2d-ae6e-2d5a5cb4969c"
   },
   "outputs": [
    {
     "data": {
      "application/vnd.google.colaboratory.intrinsic+json": {
       "type": "string"
      },
      "text/plain": [
       "\"The movie is not that bad, Ringo Lam sucks. I hate when Van Damme has love in his movies, van Damme is good only when he doesn't have love in his movies.\""
      ]
     },
     "execution_count": 19,
     "metadata": {
      "tags": []
     },
     "output_type": "execute_result"
    }
   ],
   "source": [
    "teX[5317]"
   ]
  },
  {
   "cell_type": "code",
   "execution_count": null,
   "metadata": {
    "id": "TZGoIdvCcKD7"
   },
   "outputs": [],
   "source": [
    "from IPython.core.display import display, HTML\n",
    "from matplotlib import cm\n",
    "from matplotlib.colors import ListedColormap, LinearSegmentedColormap\n",
    "\n",
    "bwr = cm.get_cmap('bwr', 256)\n",
    "\n",
    "def rescale_score_by_abs (score, max_score, min_score):\n",
    "    \"\"\"\n",
    "    rescale positive score to the range [0.5, 1.0], negative score to the range [0.0, 0.5],\n",
    "    using the extremal scores max_score and min_score for normalization\n",
    "    \"\"\"\n",
    "    \n",
    "    # CASE 1: positive AND negative scores occur --------------------\n",
    "    if max_score>0 and min_score<0:\n",
    "    \n",
    "        if max_score >= abs(min_score):   # deepest color is positive\n",
    "            if score>=0:\n",
    "                return 0.5 + 0.5*(score/max_score)\n",
    "            else:\n",
    "                return 0.5 - 0.5*(abs(score)/max_score)\n",
    "\n",
    "        else:                             # deepest color is negative\n",
    "            if score>=0:\n",
    "                return 0.5 + 0.5*(score/abs(min_score))\n",
    "            else:\n",
    "                return 0.5 - 0.5*(score/min_score)   \n",
    "    \n",
    "    # CASE 2: ONLY positive scores occur -----------------------------       \n",
    "    elif max_score>0 and min_score>=0: \n",
    "        if max_score == min_score:\n",
    "            return 1.0\n",
    "        else:\n",
    "            return 0.5 + 0.5*(score/max_score)\n",
    "    \n",
    "    # CASE 3: ONLY negative scores occur -----------------------------\n",
    "    elif max_score<=0 and min_score<0: \n",
    "        if max_score == min_score:\n",
    "            return 0.0\n",
    "        else:\n",
    "            return 0.5 - 0.5*(score/min_score)    \n",
    "  \n",
    "      \n",
    "def getRGB (c_tuple):\n",
    "    return \"#%02x%02x%02x\"%(int(c_tuple[0]*255), int(c_tuple[1]*255), int(c_tuple[2]*255))\n",
    "\n",
    "     \n",
    "def span_word (word, score, colormap):\n",
    "    return \"<span style=\\\"background-color:\"+getRGB(colormap(score))+\"\\\">\"+word+\"</span>\"\n",
    "\n",
    "def html_heatmap (words, scores, cmap_name=\"bwr\"):\n",
    "    \n",
    "    colormap  = bwr# plt.get_cmap(cmap_name)\n",
    "     \n",
    "    assert len(words)==len(scores)\n",
    "    max_s     = max(scores)\n",
    "    min_s     = min(scores)\n",
    "    \n",
    "    output_text = \"\"\n",
    "    \n",
    "    for idx, w in enumerate(words):\n",
    "        score       = rescale_score_by_abs(scores[idx], max_s, min_s)\n",
    "        output_text = output_text + span_word(w, score, colormap) + \" \"\n",
    "    \n",
    "    return output_text + \"\\n\""
   ]
  },
  {
   "cell_type": "markdown",
   "metadata": {
    "id": "uRZd7KxQLdqn"
   },
   "source": [
    "# IntGrad"
   ]
  },
  {
   "cell_type": "code",
   "execution_count": 34,
   "metadata": {
    "id": "Viwsf3iN6kX6"
   },
   "outputs": [],
   "source": [
    "from captum.attr import IntegratedGradients, visualization, TokenReferenceBase\n",
    "\n",
    "ig = IntegratedGradients(model)"
   ]
  },
  {
   "cell_type": "code",
   "execution_count": 12,
   "metadata": {
    "colab": {
     "base_uri": "https://localhost:8080/"
    },
    "id": "_ZvVTmVY7STG",
    "outputId": "5db4bbc1-2c8b-4cb5-c6a3-83578548800a"
   },
   "outputs": [
    {
     "name": "stdout",
     "output_type": "stream",
     "text": [
      "3.5227432250976562\n"
     ]
    }
   ],
   "source": [
    "# accumalate couple samples in this array for visualization purposes\n",
    "vis_data_records_ig = []\n",
    "\n",
    "def interpret_sentence(model_wrapper, sentence, label=1):\n",
    "\n",
    "    model_wrapper.eval()\n",
    "    model_wrapper.zero_grad()\n",
    "\n",
    "    input_ids = [BERT_tokenizer.encode(sentence, add_special_tokens = True, max_length=256)]\n",
    "    input_embedding = model_wrapper.BERT.embeddings(torch.tensor(input_ids).to(DEVICE))\n",
    "\n",
    "    baseline = np.array(input_ids).copy()\n",
    "    baseline[0, 1:-1] = 0\n",
    "    baseline_embedding = model_wrapper.BERT.embeddings(torch.tensor(baseline).to(DEVICE))\n",
    "\n",
    "    # compute attributions and approximation delta using integrated gradients\n",
    "    attributions_ig, delta = ig.attribute(input_embedding, baseline_embedding, n_steps=250, return_convergence_delta=True, internal_batch_size=128)\n",
    "\n",
    "    return attributions_ig\n",
    "    \n",
    "from tqdm import tqdm_notebook as tqdm\n",
    "\n",
    "att_igs = []\n",
    "\n",
    "import time \n",
    "start = time.time()\n",
    "\n",
    "for i in range(5317,5318):#tqdm(range(len(teX))):\n",
    "    att_igs.append(interpret_sentence(model, teX[i]).sum(dim=-1).squeeze(0).to('cpu').detach().numpy()[1:-1])\n",
    "\n",
    "print(time.time()-start)"
   ]
  },
  {
   "cell_type": "code",
   "execution_count": 14,
   "metadata": {
    "colab": {
     "base_uri": "https://localhost:8080/",
     "height": 137
    },
    "id": "_VeKpwz1RiRY",
    "outputId": "02dd8e80-ed45-4547-e264-c9d761bb185e"
   },
   "outputs": [
    {
     "data": {
      "text/html": [
       "<div style=\"background-color:#ffffff; height:120px; font-size:36pt; color:#424242; text-align:left;\"> <span style=\"background-color:#fff0f0\">the</span> <span style=\"background-color:#ffe6e6\">movie</span> <span style=\"background-color:#ffd0d0\">is</span> <span style=\"background-color:#ceceff\">not</span> <span style=\"background-color:#ff8282\">that</span> <span style=\"background-color:#d2d2ff\">bad</span> <span style=\"background-color:#ffc3c3\">,</span> <span style=\"background-color:#f3f3ff\">ringo</span> <span style=\"background-color:#fefeff\">lam</span> <span style=\"background-color:#0000ff\">sucks</span> <span style=\"background-color:#fff8f8\">.</span> <span style=\"background-color:#eaeaff\">i</span> <span style=\"background-color:#e3e3ff\">hate</span> <span style=\"background-color:#ffd8d8\">when</span> <span style=\"background-color:#fff6f6\">van</span> <span style=\"background-color:#ffecec\">dam</span> <span style=\"background-color:#f2f2ff\">##me</span> <span style=\"background-color:#d0d0ff\">has</span> <span style=\"background-color:#ffd8d8\">love</span> <span style=\"background-color:#ececff\">in</span> <span style=\"background-color:#fffefe\">his</span> <span style=\"background-color:#fffcfc\">movies</span> <span style=\"background-color:#fffefe\">,</span> <span style=\"background-color:#fffcfc\">van</span> <span style=\"background-color:#d8d8ff\">dam</span> <span style=\"background-color:#fefeff\">##me</span> <span style=\"background-color:#ffeeee\">is</span> <span style=\"background-color:#eaeaff\">good</span> <span style=\"background-color:#ffecec\">only</span> <span style=\"background-color:#fffafa\">when</span> <span style=\"background-color:#f6f6ff\">he</span> <span style=\"background-color:#dadaff\">doesn</span> <span style=\"background-color:#fafaff\">'</span> <span style=\"background-color:#e6e6ff\">t</span> <span style=\"background-color:#c8c8ff\">have</span> <span style=\"background-color:#ffe2e2\">love</span> <span style=\"background-color:#fff8f8\">in</span> <span style=\"background-color:#dedeff\">his</span> <span style=\"background-color:#fff8f8\">movies</span> <span style=\"background-color:#e2e2ff\">.</span> \n",
       "</div>"
      ],
      "text/plain": [
       "<IPython.core.display.HTML object>"
      ]
     },
     "metadata": {
      "tags": []
     },
     "output_type": "display_data"
    }
   ],
   "source": [
    "idx = 5317\n",
    "tokens = BERT_tokenizer.tokenize(teX[idx])\n",
    "scores = att_igs[0]\n",
    "display(HTML('<div style=\"background-color:#ffffff; height:120px; font-size:36pt; color:#424242; text-align:left;\"> '+html_heatmap(tokens,scores)+'</div>'))"
   ]
  },
  {
   "cell_type": "markdown",
   "metadata": {
    "id": "D86J-4viv0MK"
   },
   "source": [
    "# DeepLift"
   ]
  },
  {
   "cell_type": "code",
   "execution_count": null,
   "metadata": {
    "id": "1YDKnz3NRKSP"
   },
   "outputs": [],
   "source": [
    "from captum.attr import DeepLift, visualization, TokenReferenceBase\n",
    "\n",
    "explainer = DeepLift(model)"
   ]
  },
  {
   "cell_type": "code",
   "execution_count": 21,
   "metadata": {
    "colab": {
     "base_uri": "https://localhost:8080/",
     "height": 273,
     "referenced_widgets": [
      "2a3784cb69e4405abac06bf7b5739eb6",
      "1a3029f7af5548ec856f8841ff14c148",
      "8fdade6461aa4fb4a920018e9d44260a",
      "b5c8a1dcdd50426aa99d4a577e096038",
      "23f040328d5c4a10a2c9ff2265dc3b5d",
      "9ec40da5ecda488ea2ee906d17e358d0",
      "69070b5509b341b19e79a5a0b75d276a",
      "f3a352394c75411291f04c81853a203e"
     ]
    },
    "id": "GltAPgXERR_A",
    "outputId": "bd60aa3d-a75e-4c48-9246-d0231b3844ed"
   },
   "outputs": [
    {
     "name": "stderr",
     "output_type": "stream",
     "text": [
      "/usr/local/lib/python3.7/dist-packages/ipykernel_launcher.py:39: TqdmDeprecationWarning: This function will be removed in tqdm==5.0.0\n",
      "Please use `tqdm.notebook.tqdm` instead of `tqdm.tqdm_notebook`\n"
     ]
    },
    {
     "data": {
      "application/vnd.jupyter.widget-view+json": {
       "model_id": "2a3784cb69e4405abac06bf7b5739eb6",
       "version_major": 2,
       "version_minor": 0
      },
      "text/plain": [
       "HBox(children=(FloatProgress(value=0.0, max=1.0), HTML(value='')))"
      ]
     },
     "metadata": {
      "tags": []
     },
     "output_type": "display_data"
    },
    {
     "name": "stderr",
     "output_type": "stream",
     "text": [
      "/usr/local/lib/python3.7/dist-packages/captum/_utils/gradient.py:58: UserWarning: The .grad attribute of a Tensor that is not a leaf Tensor is being accessed. Its .grad attribute won't be populated during autograd.backward(). If you indeed want the gradient for a non-leaf Tensor, use .retain_grad() on the non-leaf Tensor. If you access the non-leaf Tensor by mistake, make sure you access the leaf Tensor instead. See github.com/pytorch/pytorch/pull/30531 for more informations.\n",
      "  if input.grad is not None:\n",
      "/usr/local/lib/python3.7/dist-packages/captum/attr/_core/deep_lift.py:325: UserWarning: Setting forward, backward hooks and attributes on non-linear\n",
      "               activations. The hooks and attributes will be removed\n",
      "            after the attribution is finished\n",
      "  after the attribution is finished\"\"\"\n",
      "/usr/local/lib/python3.7/dist-packages/captum/_utils/gradient.py:87: UserWarning: The .grad attribute of a Tensor that is not a leaf Tensor is being accessed. Its .grad attribute won't be populated during autograd.backward(). If you indeed want the gradient for a non-leaf Tensor, use .retain_grad() on the non-leaf Tensor. If you access the non-leaf Tensor by mistake, make sure you access the leaf Tensor instead. See github.com/pytorch/pytorch/pull/30531 for more informations.\n",
      "  if input.grad is not None:\n"
     ]
    },
    {
     "name": "stdout",
     "output_type": "stream",
     "text": [
      "\n",
      "0.2710409164428711\n"
     ]
    }
   ],
   "source": [
    "# accumalate couple samples in this array for visualization purposes\n",
    "vis_data_records_ig = []\n",
    "\n",
    "def interpret_sentence(model_wrapper, sentence, label=1):\n",
    "\n",
    "    model_wrapper.eval()\n",
    "    model_wrapper.zero_grad()\n",
    "\n",
    "    input_ids = [BERT_tokenizer.encode(sentence, add_special_tokens = True, max_length=256)]\n",
    "    input_embedding = model_wrapper.BERT.embeddings(torch.tensor(input_ids).to(DEVICE))\n",
    "\n",
    "    baseline = np.array(input_ids).copy()\n",
    "    baseline[0, 1:-1] = 0\n",
    "    baseline_embedding = model_wrapper.BERT.embeddings(torch.tensor(baseline).to(DEVICE))\n",
    "\n",
    "    # compute attributions and approximation delta using integrated gradients\n",
    "    attributions_ig, delta = explainer.attribute(input_embedding, baseline_embedding, return_convergence_delta=True)\n",
    "\n",
    "    return attributions_ig\n",
    "\n",
    "from tqdm import tqdm_notebook as tqdm\n",
    "import pickle \n",
    "\n",
    "att = []\n",
    "\n",
    "import time \n",
    "start = time.time()\n",
    "\n",
    "for i in tqdm(range(5317,5318)):\n",
    "    att.append(interpret_sentence(model, teX[i]).sum(dim=-1).squeeze(0).to('cpu').detach().numpy()[1:-1])\n",
    "\n",
    "print(time.time()-start)"
   ]
  },
  {
   "cell_type": "code",
   "execution_count": 24,
   "metadata": {
    "colab": {
     "base_uri": "https://localhost:8080/",
     "height": 137
    },
    "id": "rJA6simcRrsJ",
    "outputId": "6e9dbee5-46a1-4efb-b545-4996a547ad4f"
   },
   "outputs": [
    {
     "data": {
      "text/html": [
       "<div style=\"background-color:#ffffff; height:120px; font-size:36pt; color:#424242; text-align:left;\"> <span style=\"background-color:#ffa0a0\">the</span> <span style=\"background-color:#d8d8ff\">movie</span> <span style=\"background-color:#ffd8d8\">is</span> <span style=\"background-color:#ffbebe\">not</span> <span style=\"background-color:#ff9696\">that</span> <span style=\"background-color:#9c9cff\">bad</span> <span style=\"background-color:#ff0000\">,</span> <span style=\"background-color:#6666ff\">ringo</span> <span style=\"background-color:#2e2eff\">lam</span> <span style=\"background-color:#ff6464\">sucks</span> <span style=\"background-color:#d8d8ff\">.</span> <span style=\"background-color:#f2f2ff\">i</span> <span style=\"background-color:#ffb2b2\">hate</span> <span style=\"background-color:#ffdede\">when</span> <span style=\"background-color:#e6e6ff\">van</span> <span style=\"background-color:#f6f6ff\">dam</span> <span style=\"background-color:#ffe8e8\">##me</span> <span style=\"background-color:#ffdede\">has</span> <span style=\"background-color:#fffcfc\">love</span> <span style=\"background-color:#fff6f6\">in</span> <span style=\"background-color:#ffecec\">his</span> <span style=\"background-color:#fcfcff\">movies</span> <span style=\"background-color:#fff4f4\">,</span> <span style=\"background-color:#ffecec\">van</span> <span style=\"background-color:#fffefe\">dam</span> <span style=\"background-color:#f6f6ff\">##me</span> <span style=\"background-color:#ffdcdc\">is</span> <span style=\"background-color:#ffe6e6\">good</span> <span style=\"background-color:#dcdcff\">only</span> <span style=\"background-color:#e2e2ff\">when</span> <span style=\"background-color:#f2f2ff\">he</span> <span style=\"background-color:#fcfcff\">doesn</span> <span style=\"background-color:#fcfcff\">'</span> <span style=\"background-color:#e0e0ff\">t</span> <span style=\"background-color:#fafaff\">have</span> <span style=\"background-color:#fffafa\">love</span> <span style=\"background-color:#fcfcff\">in</span> <span style=\"background-color:#f0f0ff\">his</span> <span style=\"background-color:#f0f0ff\">movies</span> <span style=\"background-color:#ffd0d0\">.</span> \n",
       "</div>"
      ],
      "text/plain": [
       "<IPython.core.display.HTML object>"
      ]
     },
     "metadata": {
      "tags": []
     },
     "output_type": "display_data"
    }
   ],
   "source": [
    "idx = 5317\n",
    "tokens = BERT_tokenizer.tokenize(teX[idx])\n",
    "scores = att[0]\n",
    "display(HTML('<div style=\"background-color:#ffffff; height:120px; font-size:36pt; color:#424242; text-align:left;\"> '+html_heatmap(tokens,scores)+'</div>'))"
   ]
  },
  {
   "cell_type": "markdown",
   "metadata": {
    "id": "wn2X6lSzWDgh"
   },
   "source": [
    "# Gradient x Input"
   ]
  },
  {
   "cell_type": "code",
   "execution_count": null,
   "metadata": {
    "id": "W9NRNBrURSEH"
   },
   "outputs": [],
   "source": [
    "from captum.attr import InputXGradient, visualization, TokenReferenceBase\n",
    "\n",
    "explainer = InputXGradient(model)"
   ]
  },
  {
   "cell_type": "code",
   "execution_count": 26,
   "metadata": {
    "colab": {
     "base_uri": "https://localhost:8080/",
     "height": 205,
     "referenced_widgets": [
      "65c9326896a346ea98b4852bbf72fbfa",
      "5eab5d972532454ca25a622ca563717b",
      "7e2bb5aef8c74359a151de4294b493b6",
      "ec64275385194a3eaa24d0bad0e9a1e0",
      "a7369cd195ee40ba882936ecaaa94bf3",
      "45ed0720cdff4247b09300fc4b507873",
      "f3673ae466f74dbe8e85f4437f76d7f0",
      "b72c705875a2436eac570caef1266d2e"
     ]
    },
    "id": "RptTmHWcWIGr",
    "outputId": "3e27cd9d-8ab9-46ad-89ad-2d463a5f25e3"
   },
   "outputs": [
    {
     "name": "stderr",
     "output_type": "stream",
     "text": [
      "/usr/local/lib/python3.7/dist-packages/ipykernel_launcher.py:35: TqdmDeprecationWarning: This function will be removed in tqdm==5.0.0\n",
      "Please use `tqdm.notebook.tqdm` instead of `tqdm.tqdm_notebook`\n"
     ]
    },
    {
     "data": {
      "application/vnd.jupyter.widget-view+json": {
       "model_id": "65c9326896a346ea98b4852bbf72fbfa",
       "version_major": 2,
       "version_minor": 0
      },
      "text/plain": [
       "HBox(children=(FloatProgress(value=0.0, max=1.0), HTML(value='')))"
      ]
     },
     "metadata": {
      "tags": []
     },
     "output_type": "display_data"
    },
    {
     "name": "stdout",
     "output_type": "stream",
     "text": [
      "\n",
      "0.15769386291503906\n"
     ]
    },
    {
     "name": "stderr",
     "output_type": "stream",
     "text": [
      "/usr/local/lib/python3.7/dist-packages/captum/_utils/gradient.py:58: UserWarning: The .grad attribute of a Tensor that is not a leaf Tensor is being accessed. Its .grad attribute won't be populated during autograd.backward(). If you indeed want the gradient for a non-leaf Tensor, use .retain_grad() on the non-leaf Tensor. If you access the non-leaf Tensor by mistake, make sure you access the leaf Tensor instead. See github.com/pytorch/pytorch/pull/30531 for more informations.\n",
      "  if input.grad is not None:\n",
      "/usr/local/lib/python3.7/dist-packages/captum/_utils/gradient.py:87: UserWarning: The .grad attribute of a Tensor that is not a leaf Tensor is being accessed. Its .grad attribute won't be populated during autograd.backward(). If you indeed want the gradient for a non-leaf Tensor, use .retain_grad() on the non-leaf Tensor. If you access the non-leaf Tensor by mistake, make sure you access the leaf Tensor instead. See github.com/pytorch/pytorch/pull/30531 for more informations.\n",
      "  if input.grad is not None:\n"
     ]
    }
   ],
   "source": [
    "# accumalate couple samples in this array for visualization purposes\n",
    "vis_data_records_ig = []\n",
    "\n",
    "def interpret_sentence(model_wrapper, sentence, label=1):\n",
    "\n",
    "    model_wrapper.eval()\n",
    "    model_wrapper.zero_grad()\n",
    "\n",
    "    input_ids = [BERT_tokenizer.encode(sentence, add_special_tokens = True, max_length=256)]\n",
    "    input_embedding = model_wrapper.BERT.embeddings(torch.tensor(input_ids).to(DEVICE))\n",
    "\n",
    "    # compute attributions and approximation delta using integrated gradients\n",
    "    attributions_ig = explainer.attribute(input_embedding)\n",
    "\n",
    "    return attributions_ig\n",
    "\n",
    "from tqdm import tqdm_notebook as tqdm\n",
    "\n",
    "att = []\n",
    "\n",
    "import time \n",
    "start = time.time()\n",
    "import pickle\n",
    "\n",
    "for i in tqdm(range(5317,5318)):\n",
    "    att.append(interpret_sentence(model, teX[i]).sum(dim=-1).squeeze(0).to('cpu').detach().numpy()[1:-1])\n",
    "\n",
    "print(time.time()-start)"
   ]
  },
  {
   "cell_type": "code",
   "execution_count": 27,
   "metadata": {
    "colab": {
     "base_uri": "https://localhost:8080/",
     "height": 137
    },
    "id": "WHpjEKMqSI9r",
    "outputId": "180b574c-9ad5-435e-a4ba-7fd041f5fd6b"
   },
   "outputs": [
    {
     "data": {
      "text/html": [
       "<div style=\"background-color:#ffffff; height:120px; font-size:36pt; color:#424242; text-align:left;\"> <span style=\"background-color:#ff7c7c\">the</span> <span style=\"background-color:#e6e6ff\">movie</span> <span style=\"background-color:#ffc2c2\">is</span> <span style=\"background-color:#ffbaba\">not</span> <span style=\"background-color:#ff8a8a\">that</span> <span style=\"background-color:#9c9cff\">bad</span> <span style=\"background-color:#ff6e6e\">,</span> <span style=\"background-color:#9696ff\">ringo</span> <span style=\"background-color:#0000ff\">lam</span> <span style=\"background-color:#ff4c4c\">sucks</span> <span style=\"background-color:#ffeaea\">.</span> <span style=\"background-color:#e6e6ff\">i</span> <span style=\"background-color:#ffb2b2\">hate</span> <span style=\"background-color:#ffdcdc\">when</span> <span style=\"background-color:#eaeaff\">van</span> <span style=\"background-color:#e0e0ff\">dam</span> <span style=\"background-color:#fff0f0\">##me</span> <span style=\"background-color:#ffe4e4\">has</span> <span style=\"background-color:#fff6f6\">love</span> <span style=\"background-color:#fefeff\">in</span> <span style=\"background-color:#ffe8e8\">his</span> <span style=\"background-color:#fcfcff\">movies</span> <span style=\"background-color:#fff0f0\">,</span> <span style=\"background-color:#ffe4e4\">van</span> <span style=\"background-color:#fafaff\">dam</span> <span style=\"background-color:#f2f2ff\">##me</span> <span style=\"background-color:#ffd6d6\">is</span> <span style=\"background-color:#ffe8e8\">good</span> <span style=\"background-color:#d3d3ff\">only</span> <span style=\"background-color:#e0e0ff\">when</span> <span style=\"background-color:#e8e8ff\">he</span> <span style=\"background-color:#fafaff\">doesn</span> <span style=\"background-color:#f3f3ff\">'</span> <span style=\"background-color:#d2d2ff\">t</span> <span style=\"background-color:#f8f8ff\">have</span> <span style=\"background-color:#fffafa\">love</span> <span style=\"background-color:#f3f3ff\">in</span> <span style=\"background-color:#f0f0ff\">his</span> <span style=\"background-color:#f3f3ff\">movies</span> <span style=\"background-color:#ffe4e4\">.</span> \n",
       "</div>"
      ],
      "text/plain": [
       "<IPython.core.display.HTML object>"
      ]
     },
     "metadata": {
      "tags": []
     },
     "output_type": "display_data"
    }
   ],
   "source": [
    "idx = 5317\n",
    "tokens = BERT_tokenizer.tokenize(teX[idx])\n",
    "scores = att[0]\n",
    "display(HTML('<div style=\"background-color:#ffffff; height:120px; font-size:36pt; color:#424242; text-align:left;\"> '+html_heatmap(tokens,scores)+'</div>'))"
   ]
  },
  {
   "cell_type": "markdown",
   "metadata": {},
   "source": [
    "# LIME"
   ]
  },
  {
   "cell_type": "code",
   "execution_count": 14,
   "metadata": {
    "colab": {
     "base_uri": "https://localhost:8080/"
    },
    "id": "ES1Iiu2xWC3Z",
    "outputId": "2ff8065b-0b57-48c4-ef8c-2718e4c94b54"
   },
   "outputs": [
    {
     "name": "stderr",
     "output_type": "stream",
     "text": [
      "/usr/local/lib/python3.7/dist-packages/torch/serialization.py:656: SourceChangeWarning: source code of class 'torch.nn.modules.sparse.Embedding' has changed. you can retrieve the original source code by accessing the object's source attribute or set `torch.nn.Module.dump_patches = True` and use the patch tool to revert the changes.\n",
      "  warnings.warn(msg, SourceChangeWarning)\n",
      "/usr/local/lib/python3.7/dist-packages/torch/serialization.py:656: SourceChangeWarning: source code of class 'torch.nn.modules.normalization.LayerNorm' has changed. you can retrieve the original source code by accessing the object's source attribute or set `torch.nn.Module.dump_patches = True` and use the patch tool to revert the changes.\n",
      "  warnings.warn(msg, SourceChangeWarning)\n",
      "/usr/local/lib/python3.7/dist-packages/torch/serialization.py:656: SourceChangeWarning: source code of class 'torch.nn.modules.dropout.Dropout' has changed. you can retrieve the original source code by accessing the object's source attribute or set `torch.nn.Module.dump_patches = True` and use the patch tool to revert the changes.\n",
      "  warnings.warn(msg, SourceChangeWarning)\n",
      "/usr/local/lib/python3.7/dist-packages/torch/serialization.py:656: SourceChangeWarning: source code of class 'torch.nn.modules.container.ModuleList' has changed. you can retrieve the original source code by accessing the object's source attribute or set `torch.nn.Module.dump_patches = True` and use the patch tool to revert the changes.\n",
      "  warnings.warn(msg, SourceChangeWarning)\n",
      "/usr/local/lib/python3.7/dist-packages/torch/serialization.py:656: SourceChangeWarning: source code of class 'torch.nn.modules.linear.Linear' has changed. you can retrieve the original source code by accessing the object's source attribute or set `torch.nn.Module.dump_patches = True` and use the patch tool to revert the changes.\n",
      "  warnings.warn(msg, SourceChangeWarning)\n",
      "/usr/local/lib/python3.7/dist-packages/torch/serialization.py:656: SourceChangeWarning: source code of class 'torch.nn.modules.activation.Tanh' has changed. you can retrieve the original source code by accessing the object's source attribute or set `torch.nn.Module.dump_patches = True` and use the patch tool to revert the changes.\n",
      "  warnings.warn(msg, SourceChangeWarning)\n"
     ]
    },
    {
     "data": {
      "text/plain": [
       "<All keys matched successfully>"
      ]
     },
     "execution_count": 14,
     "metadata": {
      "tags": []
     },
     "output_type": "execute_result"
    }
   ],
   "source": [
    "DEVICE = 'cuda'\n",
    "\n",
    "BERT_TOKENIZER_PATH = './'+dataset+'_BERT/BERT_base_uncased_tokenizer.pt'\n",
    "BERT_PATH = './'+dataset+'_BERT/BERT_base_uncased.pt'\n",
    "BERT_FT_PATH = './'+dataset+'_BERT/'+dataset+'_BERT_FT.pt'\n",
    "\n",
    "BERT_tokenizer = torch.load(BERT_TOKENIZER_PATH)\n",
    "BERT = torch.load(BERT_PATH)\n",
    "\n",
    "class FT_BERT(torch.nn.Module):\n",
    "\n",
    "    def __init__(self, BERT_model, tokenizer):\n",
    "        super(FT_BERT, self).__init__()\n",
    "        self.BERT = BERT_model\n",
    "        self.drop = torch.nn.Dropout(0.1)\n",
    "        self.linear = torch.nn.Linear(768, 2)\n",
    "        self.log_probs = torch.nn.LogSoftmax(dim=-1)\n",
    "        self.tokenizer = tokenizer\n",
    "\n",
    "    def forward(self, X):\n",
    "        if type(X)!=list:\n",
    "            X = [X]\n",
    "        inputs = self.tokenizer.batch_encode_plus(X, add_special_tokens=True, max_length=256, pad_to_max_length=True)\n",
    "        input_ids = np.vstack(inputs['input_ids'])\n",
    "        attention_mask = np.vstack(inputs['attention_mask'])\n",
    "        token_type_ids = np.vstack(inputs['token_type_ids'])\n",
    "        return self.log_probs(self.linear(self.drop(self.BERT(torch.tensor(input_ids).to(DEVICE),\n",
    "                                                              torch.tensor(attention_mask).to(DEVICE),\n",
    "                                                              torch.tensor(token_type_ids).to(DEVICE))[1])))\n",
    "\n",
    "    def init_weights(self):\n",
    "        torch.nn.init.normal_(self.linear.weight, mean=0.0, std=0.02)\n",
    "        torch.nn.init.constant_(self.linear.bias,0)\n",
    "\n",
    "from torch.utils import data\n",
    "\n",
    "class TextDataset(data.Dataset):\n",
    "    def __init__(self,trX,trY):\n",
    "        self.trX = trX\n",
    "        self.trY = trY\n",
    "\n",
    "    def __len__(self):\n",
    "        return len(self.trY)\n",
    "\n",
    "    def __getitem__(self, idx):\n",
    "        return (self.trX[idx],torch.tensor(self.trY[idx]))\n",
    "\n",
    "train_data = TextDataset(trX, trY)\n",
    "test_data = TextDataset(teX, teY)\n",
    "train_data_loader = data.DataLoader(train_data, batch_size=32, shuffle=True)\n",
    "test_data_loader = data.DataLoader(test_data, batch_size=32, shuffle=False)\n",
    "\n",
    "model = FT_BERT(BERT,BERT_tokenizer).to(DEVICE)\n",
    "device = torch.device(DEVICE)\n",
    "model.load_state_dict(torch.load(BERT_FT_PATH,map_location=device))"
   ]
  },
  {
   "cell_type": "code",
   "execution_count": 20,
   "metadata": {
    "colab": {
     "base_uri": "https://localhost:8080/"
    },
    "id": "b3RButnFTeBn",
    "outputId": "116d7dae-a6e3-4ad7-9d16-700465cee300"
   },
   "outputs": [
    {
     "name": "stdout",
     "output_type": "stream",
     "text": [
      "48.738651275634766\n"
     ]
    }
   ],
   "source": [
    "class PredDataset(data.Dataset):\n",
    "    def __init__(self,trX):\n",
    "        self.trX = trX\n",
    "\n",
    "    def __len__(self):\n",
    "        return len(self.trX)\n",
    "\n",
    "    def __getitem__(self, idx):\n",
    "        return (self.trX[idx])\n",
    "\n",
    "def get_sentiment(input):\n",
    "    test_data = PredDataset(input)\n",
    "    test_data_loader = data.DataLoader(test_data, batch_size=32, shuffle=False)\n",
    "    \n",
    "    y_pred = []\n",
    "    for Xb in test_data_loader:   \n",
    "        model.eval()\n",
    "        y_pred.append(model(Xb).to('cpu').detach().numpy())\n",
    "        \n",
    "    return np.exp(np.vstack(y_pred))\n",
    "\n",
    "import lime\n",
    "from lime.lime_text import LimeTextExplainer\n",
    "\n",
    "class_names = [\"Negative\", \"Positive\"]\n",
    "\n",
    "explainer = LimeTextExplainer(class_names=class_names,split_expression='\\s',bow=False,mask_string='')\n",
    "\n",
    "import time\n",
    "start = time.time()\n",
    "\n",
    "lime_score=[]\n",
    "\n",
    "with torch.no_grad():\n",
    "    for i in range(5317,5318):#len(teX)):\n",
    "        exp = explainer.explain_instance(' '.join(BERT_tokenizer.tokenize(teX[i])), get_sentiment, num_features=256, num_samples=1500)\n",
    "\n",
    "        lime_score.append(np.hstack((np.array(exp.as_list())[:,0].reshape(-1,1), np.array(exp.as_map()[1]))).tolist())\n",
    "\n",
    "print(time.time()-start)"
   ]
  },
  {
   "cell_type": "code",
   "execution_count": 40,
   "metadata": {
    "colab": {
     "base_uri": "https://localhost:8080/",
     "height": 137
    },
    "id": "dGTKCim9chWV",
    "outputId": "192bc651-f69c-4b69-fd43-6cc4161093d6"
   },
   "outputs": [
    {
     "data": {
      "text/html": [
       "<div style=\"background-color:#ffffff; height:120px; font-size:36pt; color:#424242; text-align:left;\"> <span style=\"background-color:#fffafa\">the</span> <span style=\"background-color:#e0e0ff\">movie</span> <span style=\"background-color:#ffdada\">is</span> <span style=\"background-color:#ff4141\">not</span> <span style=\"background-color:#fefeff\">that</span> <span style=\"background-color:#d3d3ff\">bad</span> <span style=\"background-color:#a6a6ff\">,</span> <span style=\"background-color:#fff6f6\">ringo</span> <span style=\"background-color:#e8e8ff\">lam</span> <span style=\"background-color:#0000ff\">sucks</span> <span style=\"background-color:#b3b3ff\">.</span> <span style=\"background-color:#f6f6ff\">i</span> <span style=\"background-color:#9a9aff\">hate</span> <span style=\"background-color:#f3f3ff\">when</span> <span style=\"background-color:#f8f8ff\">van</span> <span style=\"background-color:#f8f8ff\">dam</span> <span style=\"background-color:#fff4f4\">##me</span> <span style=\"background-color:#fffcfc\">has</span> <span style=\"background-color:#ffdcdc\">love</span> <span style=\"background-color:#f0f0ff\">in</span> <span style=\"background-color:#fafaff\">his</span> <span style=\"background-color:#fffefe\">movies</span> <span style=\"background-color:#fff8f8\">,</span> <span style=\"background-color:#f8f8ff\">van</span> <span style=\"background-color:#f3f3ff\">dam</span> <span style=\"background-color:#fff2f2\">##me</span> <span style=\"background-color:#f6f6ff\">is</span> <span style=\"background-color:#ffdede\">good</span> <span style=\"background-color:#ffdede\">only</span> <span style=\"background-color:#ffe8e8\">when</span> <span style=\"background-color:#fffafa\">he</span> <span style=\"background-color:#fefeff\">doesn</span> <span style=\"background-color:#ececff\">'</span> <span style=\"background-color:#e8e8ff\">t</span> <span style=\"background-color:#fffcfc\">have</span> <span style=\"background-color:#fefeff\">love</span> <span style=\"background-color:#fff6f6\">in</span> <span style=\"background-color:#fffcfc\">his</span> <span style=\"background-color:#e6e6ff\">movies</span> <span style=\"background-color:#f6f6ff\">.</span> \n",
       "</div>"
      ],
      "text/plain": [
       "<IPython.core.display.HTML object>"
      ]
     },
     "metadata": {
      "tags": []
     },
     "output_type": "display_data"
    }
   ],
   "source": [
    "idx = 5317\n",
    "tokens = BERT_tokenizer.tokenize(teX[idx])\n",
    "scores = np.stack(lime_score[0])\n",
    "scores = scores[np.argsort(scores[:,1].astype(float).astype(int)),:][:,2].astype(float)\n",
    "display(HTML('<div style=\"background-color:#ffffff; height:120px; font-size:36pt; color:#424242; text-align:left;\"> '+html_heatmap(tokens,scores)+'</div>'))"
   ]
  },
  {
   "cell_type": "code",
   "execution_count": null,
   "metadata": {},
   "outputs": [],
   "source": []
  }
 ],
 "metadata": {
  "accelerator": "GPU",
  "colab": {
   "authorship_tag": "ABX9TyNG17VGQcXonySt7xBwlp3q",
   "collapsed_sections": [
    "rMlu877xobz0",
    "uRZd7KxQLdqn",
    "D86J-4viv0MK",
    "wn2X6lSzWDgh",
    "iocoNysWeoxj"
   ],
   "mount_file_id": "1EDMni6SJSjQKm0q3tMGxFlZ-YlCGBOWu",
   "name": "XAI_survey_text.ipynb",
   "provenance": []
  },
  "kernelspec": {
   "display_name": "Python 3",
   "language": "python",
   "name": "python3"
  },
  "language_info": {
   "codemirror_mode": {
    "name": "ipython",
    "version": 3
   },
   "file_extension": ".py",
   "mimetype": "text/x-python",
   "name": "python",
   "nbconvert_exporter": "python",
   "pygments_lexer": "ipython3",
   "version": "3.7.10"
  },
  "widgets": {
   "application/vnd.jupyter.widget-state+json": {
    "01bd6896b63d477fbbceb7eed5e3a213": {
     "model_module": "@jupyter-widgets/controls",
     "model_name": "HTMLModel",
     "state": {
      "_dom_classes": [],
      "_model_module": "@jupyter-widgets/controls",
      "_model_module_version": "1.5.0",
      "_model_name": "HTMLModel",
      "_view_count": null,
      "_view_module": "@jupyter-widgets/controls",
      "_view_module_version": "1.5.0",
      "_view_name": "HTMLView",
      "description": "",
      "description_tooltip": null,
      "layout": "IPY_MODEL_e7a64a5fef2d45e18cae20ebbda016ad",
      "placeholder": "​",
      "style": "IPY_MODEL_60d98c7af05d40cdac54d23f08524f4a",
      "value": " 100/100 [00:15&lt;00:00,  6.37it/s]"
     }
    },
    "05be29f885c14c138f6aa41bfc13f8ae": {
     "model_module": "@jupyter-widgets/base",
     "model_name": "LayoutModel",
     "state": {
      "_model_module": "@jupyter-widgets/base",
      "_model_module_version": "1.2.0",
      "_model_name": "LayoutModel",
      "_view_count": null,
      "_view_module": "@jupyter-widgets/base",
      "_view_module_version": "1.2.0",
      "_view_name": "LayoutView",
      "align_content": null,
      "align_items": null,
      "align_self": null,
      "border": null,
      "bottom": null,
      "display": null,
      "flex": null,
      "flex_flow": null,
      "grid_area": null,
      "grid_auto_columns": null,
      "grid_auto_flow": null,
      "grid_auto_rows": null,
      "grid_column": null,
      "grid_gap": null,
      "grid_row": null,
      "grid_template_areas": null,
      "grid_template_columns": null,
      "grid_template_rows": null,
      "height": null,
      "justify_content": null,
      "justify_items": null,
      "left": null,
      "margin": null,
      "max_height": null,
      "max_width": null,
      "min_height": null,
      "min_width": null,
      "object_fit": null,
      "object_position": null,
      "order": null,
      "overflow": null,
      "overflow_x": null,
      "overflow_y": null,
      "padding": null,
      "right": null,
      "top": null,
      "visibility": null,
      "width": null
     }
    },
    "0991b2b8c947436f9a13dd684091e50f": {
     "model_module": "@jupyter-widgets/base",
     "model_name": "LayoutModel",
     "state": {
      "_model_module": "@jupyter-widgets/base",
      "_model_module_version": "1.2.0",
      "_model_name": "LayoutModel",
      "_view_count": null,
      "_view_module": "@jupyter-widgets/base",
      "_view_module_version": "1.2.0",
      "_view_name": "LayoutView",
      "align_content": null,
      "align_items": null,
      "align_self": null,
      "border": null,
      "bottom": null,
      "display": null,
      "flex": null,
      "flex_flow": null,
      "grid_area": null,
      "grid_auto_columns": null,
      "grid_auto_flow": null,
      "grid_auto_rows": null,
      "grid_column": null,
      "grid_gap": null,
      "grid_row": null,
      "grid_template_areas": null,
      "grid_template_columns": null,
      "grid_template_rows": null,
      "height": null,
      "justify_content": null,
      "justify_items": null,
      "left": null,
      "margin": null,
      "max_height": null,
      "max_width": null,
      "min_height": null,
      "min_width": null,
      "object_fit": null,
      "object_position": null,
      "order": null,
      "overflow": null,
      "overflow_x": null,
      "overflow_y": null,
      "padding": null,
      "right": null,
      "top": null,
      "visibility": null,
      "width": null
     }
    },
    "1e95b6bb7ac0482488e6007d191816c2": {
     "model_module": "@jupyter-widgets/controls",
     "model_name": "ProgressStyleModel",
     "state": {
      "_model_module": "@jupyter-widgets/controls",
      "_model_module_version": "1.5.0",
      "_model_name": "ProgressStyleModel",
      "_view_count": null,
      "_view_module": "@jupyter-widgets/base",
      "_view_module_version": "1.2.0",
      "_view_name": "StyleView",
      "bar_color": null,
      "description_width": "initial"
     }
    },
    "60d98c7af05d40cdac54d23f08524f4a": {
     "model_module": "@jupyter-widgets/controls",
     "model_name": "DescriptionStyleModel",
     "state": {
      "_model_module": "@jupyter-widgets/controls",
      "_model_module_version": "1.5.0",
      "_model_name": "DescriptionStyleModel",
      "_view_count": null,
      "_view_module": "@jupyter-widgets/base",
      "_view_module_version": "1.2.0",
      "_view_name": "StyleView",
      "description_width": ""
     }
    },
    "750df9fb796046e696c318e2d93e2f5e": {
     "model_module": "@jupyter-widgets/controls",
     "model_name": "HTMLModel",
     "state": {
      "_dom_classes": [],
      "_model_module": "@jupyter-widgets/controls",
      "_model_module_version": "1.5.0",
      "_model_name": "HTMLModel",
      "_view_count": null,
      "_view_module": "@jupyter-widgets/controls",
      "_view_module_version": "1.5.0",
      "_view_name": "HTMLView",
      "description": "",
      "description_tooltip": null,
      "layout": "IPY_MODEL_0991b2b8c947436f9a13dd684091e50f",
      "placeholder": "​",
      "style": "IPY_MODEL_cca6d971ac644eb2b291e69852050b5b",
      "value": " 100/100 [00:07&lt;00:00, 13.87it/s]"
     }
    },
    "9cf0937155574cb9aa769d0fad0619d4": {
     "model_module": "@jupyter-widgets/controls",
     "model_name": "FloatProgressModel",
     "state": {
      "_dom_classes": [],
      "_model_module": "@jupyter-widgets/controls",
      "_model_module_version": "1.5.0",
      "_model_name": "FloatProgressModel",
      "_view_count": null,
      "_view_module": "@jupyter-widgets/controls",
      "_view_module_version": "1.5.0",
      "_view_name": "ProgressView",
      "bar_style": "success",
      "description": "100%",
      "description_tooltip": null,
      "layout": "IPY_MODEL_c9d178dbca9140c285ae147c8297fc98",
      "max": 100,
      "min": 0,
      "orientation": "horizontal",
      "style": "IPY_MODEL_1e95b6bb7ac0482488e6007d191816c2",
      "value": 100
     }
    },
    "9d9ab0332a5349dda6d2003f098e2b1d": {
     "model_module": "@jupyter-widgets/controls",
     "model_name": "FloatProgressModel",
     "state": {
      "_dom_classes": [],
      "_model_module": "@jupyter-widgets/controls",
      "_model_module_version": "1.5.0",
      "_model_name": "FloatProgressModel",
      "_view_count": null,
      "_view_module": "@jupyter-widgets/controls",
      "_view_module_version": "1.5.0",
      "_view_name": "ProgressView",
      "bar_style": "success",
      "description": "100%",
      "description_tooltip": null,
      "layout": "IPY_MODEL_bc1526af30f14aafb6c9359b104251f8",
      "max": 100,
      "min": 0,
      "orientation": "horizontal",
      "style": "IPY_MODEL_a857cb1bfb2f4051a58361ffb0e65046",
      "value": 100
     }
    },
    "a46750fca1a54e42a8da4e5475dea61d": {
     "model_module": "@jupyter-widgets/controls",
     "model_name": "HBoxModel",
     "state": {
      "_dom_classes": [],
      "_model_module": "@jupyter-widgets/controls",
      "_model_module_version": "1.5.0",
      "_model_name": "HBoxModel",
      "_view_count": null,
      "_view_module": "@jupyter-widgets/controls",
      "_view_module_version": "1.5.0",
      "_view_name": "HBoxView",
      "box_style": "",
      "children": [
       "IPY_MODEL_9d9ab0332a5349dda6d2003f098e2b1d",
       "IPY_MODEL_01bd6896b63d477fbbceb7eed5e3a213"
      ],
      "layout": "IPY_MODEL_afb584cbaa2249b7b2aa7b9e646193f0"
     }
    },
    "a857cb1bfb2f4051a58361ffb0e65046": {
     "model_module": "@jupyter-widgets/controls",
     "model_name": "ProgressStyleModel",
     "state": {
      "_model_module": "@jupyter-widgets/controls",
      "_model_module_version": "1.5.0",
      "_model_name": "ProgressStyleModel",
      "_view_count": null,
      "_view_module": "@jupyter-widgets/base",
      "_view_module_version": "1.2.0",
      "_view_name": "StyleView",
      "bar_color": null,
      "description_width": "initial"
     }
    },
    "afb584cbaa2249b7b2aa7b9e646193f0": {
     "model_module": "@jupyter-widgets/base",
     "model_name": "LayoutModel",
     "state": {
      "_model_module": "@jupyter-widgets/base",
      "_model_module_version": "1.2.0",
      "_model_name": "LayoutModel",
      "_view_count": null,
      "_view_module": "@jupyter-widgets/base",
      "_view_module_version": "1.2.0",
      "_view_name": "LayoutView",
      "align_content": null,
      "align_items": null,
      "align_self": null,
      "border": null,
      "bottom": null,
      "display": null,
      "flex": null,
      "flex_flow": null,
      "grid_area": null,
      "grid_auto_columns": null,
      "grid_auto_flow": null,
      "grid_auto_rows": null,
      "grid_column": null,
      "grid_gap": null,
      "grid_row": null,
      "grid_template_areas": null,
      "grid_template_columns": null,
      "grid_template_rows": null,
      "height": null,
      "justify_content": null,
      "justify_items": null,
      "left": null,
      "margin": null,
      "max_height": null,
      "max_width": null,
      "min_height": null,
      "min_width": null,
      "object_fit": null,
      "object_position": null,
      "order": null,
      "overflow": null,
      "overflow_x": null,
      "overflow_y": null,
      "padding": null,
      "right": null,
      "top": null,
      "visibility": null,
      "width": null
     }
    },
    "bc1526af30f14aafb6c9359b104251f8": {
     "model_module": "@jupyter-widgets/base",
     "model_name": "LayoutModel",
     "state": {
      "_model_module": "@jupyter-widgets/base",
      "_model_module_version": "1.2.0",
      "_model_name": "LayoutModel",
      "_view_count": null,
      "_view_module": "@jupyter-widgets/base",
      "_view_module_version": "1.2.0",
      "_view_name": "LayoutView",
      "align_content": null,
      "align_items": null,
      "align_self": null,
      "border": null,
      "bottom": null,
      "display": null,
      "flex": null,
      "flex_flow": null,
      "grid_area": null,
      "grid_auto_columns": null,
      "grid_auto_flow": null,
      "grid_auto_rows": null,
      "grid_column": null,
      "grid_gap": null,
      "grid_row": null,
      "grid_template_areas": null,
      "grid_template_columns": null,
      "grid_template_rows": null,
      "height": null,
      "justify_content": null,
      "justify_items": null,
      "left": null,
      "margin": null,
      "max_height": null,
      "max_width": null,
      "min_height": null,
      "min_width": null,
      "object_fit": null,
      "object_position": null,
      "order": null,
      "overflow": null,
      "overflow_x": null,
      "overflow_y": null,
      "padding": null,
      "right": null,
      "top": null,
      "visibility": null,
      "width": null
     }
    },
    "c9d178dbca9140c285ae147c8297fc98": {
     "model_module": "@jupyter-widgets/base",
     "model_name": "LayoutModel",
     "state": {
      "_model_module": "@jupyter-widgets/base",
      "_model_module_version": "1.2.0",
      "_model_name": "LayoutModel",
      "_view_count": null,
      "_view_module": "@jupyter-widgets/base",
      "_view_module_version": "1.2.0",
      "_view_name": "LayoutView",
      "align_content": null,
      "align_items": null,
      "align_self": null,
      "border": null,
      "bottom": null,
      "display": null,
      "flex": null,
      "flex_flow": null,
      "grid_area": null,
      "grid_auto_columns": null,
      "grid_auto_flow": null,
      "grid_auto_rows": null,
      "grid_column": null,
      "grid_gap": null,
      "grid_row": null,
      "grid_template_areas": null,
      "grid_template_columns": null,
      "grid_template_rows": null,
      "height": null,
      "justify_content": null,
      "justify_items": null,
      "left": null,
      "margin": null,
      "max_height": null,
      "max_width": null,
      "min_height": null,
      "min_width": null,
      "object_fit": null,
      "object_position": null,
      "order": null,
      "overflow": null,
      "overflow_x": null,
      "overflow_y": null,
      "padding": null,
      "right": null,
      "top": null,
      "visibility": null,
      "width": null
     }
    },
    "cca6d971ac644eb2b291e69852050b5b": {
     "model_module": "@jupyter-widgets/controls",
     "model_name": "DescriptionStyleModel",
     "state": {
      "_model_module": "@jupyter-widgets/controls",
      "_model_module_version": "1.5.0",
      "_model_name": "DescriptionStyleModel",
      "_view_count": null,
      "_view_module": "@jupyter-widgets/base",
      "_view_module_version": "1.2.0",
      "_view_name": "StyleView",
      "description_width": ""
     }
    },
    "e7a64a5fef2d45e18cae20ebbda016ad": {
     "model_module": "@jupyter-widgets/base",
     "model_name": "LayoutModel",
     "state": {
      "_model_module": "@jupyter-widgets/base",
      "_model_module_version": "1.2.0",
      "_model_name": "LayoutModel",
      "_view_count": null,
      "_view_module": "@jupyter-widgets/base",
      "_view_module_version": "1.2.0",
      "_view_name": "LayoutView",
      "align_content": null,
      "align_items": null,
      "align_self": null,
      "border": null,
      "bottom": null,
      "display": null,
      "flex": null,
      "flex_flow": null,
      "grid_area": null,
      "grid_auto_columns": null,
      "grid_auto_flow": null,
      "grid_auto_rows": null,
      "grid_column": null,
      "grid_gap": null,
      "grid_row": null,
      "grid_template_areas": null,
      "grid_template_columns": null,
      "grid_template_rows": null,
      "height": null,
      "justify_content": null,
      "justify_items": null,
      "left": null,
      "margin": null,
      "max_height": null,
      "max_width": null,
      "min_height": null,
      "min_width": null,
      "object_fit": null,
      "object_position": null,
      "order": null,
      "overflow": null,
      "overflow_x": null,
      "overflow_y": null,
      "padding": null,
      "right": null,
      "top": null,
      "visibility": null,
      "width": null
     }
    },
    "f782d55fb04b4e28afeac7c868d6d28c": {
     "model_module": "@jupyter-widgets/controls",
     "model_name": "HBoxModel",
     "state": {
      "_dom_classes": [],
      "_model_module": "@jupyter-widgets/controls",
      "_model_module_version": "1.5.0",
      "_model_name": "HBoxModel",
      "_view_count": null,
      "_view_module": "@jupyter-widgets/controls",
      "_view_module_version": "1.5.0",
      "_view_name": "HBoxView",
      "box_style": "",
      "children": [
       "IPY_MODEL_9cf0937155574cb9aa769d0fad0619d4",
       "IPY_MODEL_750df9fb796046e696c318e2d93e2f5e"
      ],
      "layout": "IPY_MODEL_05be29f885c14c138f6aa41bfc13f8ae"
     }
    }
   }
  }
 },
 "nbformat": 4,
 "nbformat_minor": 4
}
